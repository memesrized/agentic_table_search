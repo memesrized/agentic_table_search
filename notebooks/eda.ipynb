{
 "cells": [
  {
   "cell_type": "code",
   "execution_count": null,
   "id": "61da91d0",
   "metadata": {},
   "outputs": [],
   "source": [
    "import pandas as pd\n",
    "from ydata_profiling import ProfileReport\n",
    "\n",
    "df = pd.read_csv(\"../data/raw/healthcare_dataset.csv\")\n",
    "df[\"Name\"] = df[\"Name\"].str.lower()\n",
    "df.drop_duplicates(inplace=True)"
   ]
  },
  {
   "cell_type": "code",
   "execution_count": null,
   "id": "2e1b38ac",
   "metadata": {},
   "outputs": [],
   "source": [
    "df"
   ]
  },
  {
   "cell_type": "code",
   "execution_count": null,
   "id": "e693ad60",
   "metadata": {},
   "outputs": [],
   "source": [
    "profile = ProfileReport(df)"
   ]
  },
  {
   "cell_type": "code",
   "execution_count": null,
   "id": "6cb99a8f",
   "metadata": {},
   "outputs": [],
   "source": [
    "profile.to_file(\"healthcare_dataset_report.html\")"
   ]
  },
  {
   "cell_type": "code",
   "execution_count": null,
   "id": "3fe220dc",
   "metadata": {},
   "outputs": [],
   "source": [
    "from collections import Counter\n",
    "\n",
    "Counter(df[\"Hospital\"]).most_common()[::-1]"
   ]
  },
  {
   "cell_type": "code",
   "execution_count": null,
   "id": "cf6b64df",
   "metadata": {},
   "outputs": [],
   "source": [
    "[x for x in Counter(df[\"Hospital\"]).most_common()[::-1] if \"Daniels\" in x[0] and \"White\" in x[0]]"
   ]
  },
  {
   "cell_type": "code",
   "execution_count": null,
   "id": "da3f0913",
   "metadata": {},
   "outputs": [],
   "source": [
    "df"
   ]
  },
  {
   "cell_type": "code",
   "execution_count": null,
   "id": "096157c1",
   "metadata": {},
   "outputs": [],
   "source": [
    "df[\"Date of Admission\"] = pd.to_datetime(df[\"Date of Admission\"])"
   ]
  },
  {
   "cell_type": "code",
   "execution_count": null,
   "id": "5cc607fd",
   "metadata": {},
   "outputs": [],
   "source": [
    "a = pd.to_datetime(df[\"Date of Admission\"] - df[\"Age\"].apply(lambda x: pd.DateOffset(years=x)))"
   ]
  },
  {
   "cell_type": "code",
   "execution_count": null,
   "id": "aa2b159e",
   "metadata": {},
   "outputs": [],
   "source": [
    "a.dt.year"
   ]
  },
  {
   "cell_type": "code",
   "execution_count": null,
   "id": "ca369204",
   "metadata": {},
   "outputs": [],
   "source": [
    "df[\"Date of Admission\"][0]"
   ]
  },
  {
   "cell_type": "code",
   "execution_count": null,
   "id": "c8915e41",
   "metadata": {},
   "outputs": [],
   "source": [
    "df[df[\"Name\"]==\"james garcia\"]"
   ]
  }
 ],
 "metadata": {
  "kernelspec": {
   "display_name": "med",
   "language": "python",
   "name": "python3"
  },
  "language_info": {
   "codemirror_mode": {
    "name": "ipython",
    "version": 3
   },
   "file_extension": ".py",
   "mimetype": "text/x-python",
   "name": "python",
   "nbconvert_exporter": "python",
   "pygments_lexer": "ipython3",
   "version": "3.12.11"
  }
 },
 "nbformat": 4,
 "nbformat_minor": 5
}
