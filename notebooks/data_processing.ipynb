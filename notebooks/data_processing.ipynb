{
 "cells": [
  {
   "cell_type": "code",
   "execution_count": null,
   "id": "05bbb1af",
   "metadata": {},
   "outputs": [],
   "source": [
    "import pandas as pd\n",
    "\n",
    "from pathlib import Path\n",
    "\n",
    "input_file = Path(\"../data/raw/healthcare_dataset.csv\")\n",
    "output_file = Path(\"../data/processed/healthcare_dataset.csv\")\n",
    "if not output_file.exists():\n",
    "    output_file.parent.mkdir(parents=True, exist_ok=True)\n",
    "\n",
    "df = pd.read_csv(input_file)\n",
    "df[\"Name\"] = df[\"Name\"].str.title()\n",
    "df[\"Date of Admission\"] = pd.to_datetime(df[\"Date of Admission\"])\n",
    "# since we assume that we have age at the date of admission\n",
    "df[\"Year of Birth\"] = pd.to_datetime(\n",
    "    df[\"Date of Admission\"] - df[\"Age\"].apply(lambda x: pd.DateOffset(years=x))\n",
    ").dt.year\n",
    "df[\"Discharge Date\"] = pd.to_datetime(df[\"Discharge Date\"])\n",
    "df[\"Room Number\"] = df[\"Room Number\"].astype(int)\n",
    "\n",
    "# to distinguish persons let's add id based on unique features that we have\n",
    "df[\"Patient ID\"] = pd.factorize(\n",
    "    df[[\"Name\", \"Year of Birth\", \"Gender\", \"Blood Type\"]]\n",
    "    .astype(str)\n",
    "    .agg(\"-\".join, axis=1)\n",
    ")[0]\n",
    "\n",
    "df.drop_duplicates(inplace=True)\n",
    "df.rename({\"Age\": \"Age on Admission Date\"}, axis=1)\n",
    "df.rename(columns=lambda x: x.replace(\" \", \"_\"), inplace=True)\n",
    "\n",
    "columns = list(df.columns)\n",
    "columns.insert(0, columns.pop())\n",
    "columns.insert(2, columns.pop())\n",
    "\n",
    "df = df[columns]\n",
    "df.reset_index(drop=True, inplace=True)\n",
    "\n",
    "df.to_csv(output_file, index=False)"
   ]
  },
  {
   "cell_type": "code",
   "execution_count": null,
   "id": "cb467359",
   "metadata": {},
   "outputs": [],
   "source": [
    "df.head()"
   ]
  },
  {
   "cell_type": "code",
   "execution_count": null,
   "id": "b651bd95",
   "metadata": {},
   "outputs": [],
   "source": [
    "from ats.db_connector import load_df"
   ]
  },
  {
   "cell_type": "code",
   "execution_count": null,
   "id": "9d69fd1c",
   "metadata": {},
   "outputs": [],
   "source": [
    "df = load_df(output_file)\n",
    "\n",
    "df.info()"
   ]
  }
 ],
 "metadata": {
  "kernelspec": {
   "display_name": "med",
   "language": "python",
   "name": "python3"
  },
  "language_info": {
   "codemirror_mode": {
    "name": "ipython",
    "version": 3
   },
   "file_extension": ".py",
   "mimetype": "text/x-python",
   "name": "python",
   "nbconvert_exporter": "python",
   "pygments_lexer": "ipython3",
   "version": "3.12.11"
  }
 },
 "nbformat": 4,
 "nbformat_minor": 5
}
